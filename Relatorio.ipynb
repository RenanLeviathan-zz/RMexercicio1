{
 "cells": [
  {
   "cell_type": "markdown",
   "metadata": {
    "collapsed": true
   },
   "source": [
    "### Universidade Federal do Pará\n",
    "#### Redes Multimídia\n",
    "#### Alunos:\n",
    "#### Israël S. Hounsou\n",
    "#### Renan L. Duarte"
   ]
  },
  {
   "cell_type": "code",
   "execution_count": null,
   "metadata": {},
   "outputs": [],
   "source": [
    "import matplotlib.pyplot as plt\n",
    "import numpy as np\n",
    "A = 10\n",
    "f = 6\n",
    "t = np.linspace(0.,10.)\n",
    "w = 2*np.pi*f\n",
    "y = A*np.sin(w*t)\n",
    "plt.title(\"Onda senoidal\")\n",
    "plt.plot(t, y, 'o-')"
   ]
  }
 ],
 "metadata": {
  "kernelspec": {
   "display_name": "Python 2",
   "language": "python",
   "name": "python2"
  },
  "language_info": {
   "codemirror_mode": {
    "name": "ipython",
    "version": 2
   },
   "file_extension": ".py",
   "mimetype": "text/x-python",
   "name": "python",
   "nbconvert_exporter": "python",
   "pygments_lexer": "ipython2",
   "version": "2.7.6"
  }
 },
 "nbformat": 4,
 "nbformat_minor": 0
}
