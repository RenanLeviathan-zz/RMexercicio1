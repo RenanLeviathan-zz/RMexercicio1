{
 "cells": [
  {
   "cell_type": "markdown",
   "metadata": {
    "collapsed": true
   },
   "source": [
    "### Universidade Federal do Pará\n",
    "#### Redes Multimídia\n",
    "#### Alunos:\n",
    "#### Israël S. Hounsou\n",
    "#### Renan L. Duarte"
   ]
  },
  {
   "cell_type": "code",
   "execution_count": null,
   "metadata": {},
   "outputs": [],
   "source": [
    "import matplotlib.pyplot as plt\n",
    "import numpy as np\n",
    "A = 10\n",
    "f = 5\n",
    "t = np.arange(0.,5, 0.01)\n",
    "w = 2*np.pi*f\n",
    "y = A*np.sin(w*t)\n",
    "#amostragem\n",
    "smp = np.arange(0, 10, 1/f)\n",
    "d = A*np.sin(w*smp)\n",
    "plt.subplot(3,1,1)\n",
    "plt.title(\"Onda senoidal\")\n",
    "plt.ylabel(\"Amplitude\")\n",
    "plt.plot(t, y, 'b-')\n",
    "#amostras\n",
    "plt.subplot(3,1,2)\n",
    "plt.title(\"Amostras\")\n",
    "plt.ylabel(\"Amplitude\")\n",
    "plt.plot(smp, d, 'y-')"
   ]
  }
 ],
 "metadata": {
  "kernelspec": {
   "display_name": "Python 2",
   "language": "python",
   "name": "python2"
  },
  "language_info": {
   "codemirror_mode": {
    "name": "ipython",
    "version": 2
   },
   "file_extension": ".py",
   "mimetype": "text/x-python",
   "name": "python",
   "nbconvert_exporter": "python",
   "pygments_lexer": "ipython2",
   "version": "2.7.6"
  }
 },
 "nbformat": 4,
 "nbformat_minor": 0
}
